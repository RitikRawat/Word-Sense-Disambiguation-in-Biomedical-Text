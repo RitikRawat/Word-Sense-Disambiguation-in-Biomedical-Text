{
 "cells": [
  {
   "cell_type": "code",
   "execution_count": 1,
   "id": "89d87512-9613-462a-aae2-6cc2c4561486",
   "metadata": {
    "tags": []
   },
   "outputs": [
    {
     "name": "stderr",
     "output_type": "stream",
     "text": [
      "2023-12-21 13:55:02.501783: E tensorflow/stream_executor/cuda/cuda_driver.cc:271] failed call to cuInit: CUDA_ERROR_NO_DEVICE: no CUDA-capable device is detected\n",
      "2023-12-21 13:55:02.501835: I tensorflow/stream_executor/cuda/cuda_diagnostics.cc:163] no NVIDIA GPU device is present: /dev/nvidia0 does not exist\n"
     ]
    }
   ],
   "source": [
    "import pandas as pd\n",
    "import xml.etree.ElementTree as ET\n",
    "import spacy\n",
    "import numpy as np"
   ]
  },
  {
   "cell_type": "code",
   "execution_count": 2,
   "id": "30517ae8",
   "metadata": {
    "tags": []
   },
   "outputs": [],
   "source": [
    "from time import perf_counter\n",
    "import gc"
   ]
  },
  {
   "cell_type": "code",
   "execution_count": 3,
   "id": "52098c4d-ffc1-4de6-a32a-8334043f3648",
   "metadata": {
    "tags": []
   },
   "outputs": [],
   "source": [
    "df = pd.read_csv(\"combined_medline.tsv\", sep = \"\\t\",header = None)"
   ]
  },
  {
   "cell_type": "code",
   "execution_count": 2,
   "id": "21b3ab03",
   "metadata": {},
   "outputs": [],
   "source": [
    "MWE = []\n",
    "with open('medline_mwes.srt','r') as file:\n",
    "    lines = file.readlines()\n",
    "    for line in lines:\n",
    "        mwe = line.split(\":\",1)[0]\n",
    "        MWE.append(mwe)"
   ]
  },
  {
   "cell_type": "code",
   "execution_count": 3,
   "id": "cfc4423d",
   "metadata": {},
   "outputs": [
    {
     "data": {
      "text/plain": [
       "178716"
      ]
     },
     "execution_count": 3,
     "metadata": {},
     "output_type": "execute_result"
    }
   ],
   "source": [
    "len(MWE)"
   ]
  },
  {
   "cell_type": "code",
   "execution_count": 4,
   "id": "09a17085",
   "metadata": {
    "tags": []
   },
   "outputs": [],
   "source": [
    "df.columns = ['MWE','val1','val2']"
   ]
  },
  {
   "cell_type": "code",
   "execution_count": 10,
   "id": "ef29385f",
   "metadata": {
    "tags": []
   },
   "outputs": [],
   "source": [
    "df = df[df['val1']>2]"
   ]
  },
  {
   "cell_type": "code",
   "execution_count": 6,
   "id": "951f8e92",
   "metadata": {
    "tags": []
   },
   "outputs": [],
   "source": [
    "df = df[df['val2']>10]"
   ]
  },
  {
   "cell_type": "code",
   "execution_count": 21,
   "id": "78c2d4bc",
   "metadata": {
    "tags": []
   },
   "outputs": [],
   "source": [
    "df30000 = df[0:30000]['MWE']"
   ]
  },
  {
   "cell_type": "code",
   "execution_count": 26,
   "id": "f7391810",
   "metadata": {},
   "outputs": [],
   "source": [
    "df50000 = df[0:50000]['MWE']"
   ]
  },
  {
   "cell_type": "code",
   "execution_count": 5,
   "id": "146536ac",
   "metadata": {},
   "outputs": [],
   "source": [
    "import pickle \n",
    "\n",
    "with open('mwe_final.pkl', 'wb') as f:\n",
    "    pickle.dump(MWE, f)"
   ]
  },
  {
   "cell_type": "code",
   "execution_count": 23,
   "id": "92690bc7",
   "metadata": {
    "tags": []
   },
   "outputs": [],
   "source": [
    "import pickle \n",
    "\n",
    "with open('mwe_30000.pkl', 'wb') as f:\n",
    "    pickle.dump(df30000, f)"
   ]
  },
  {
   "cell_type": "code",
   "execution_count": 57,
   "id": "81557dde",
   "metadata": {},
   "outputs": [],
   "source": [
    "import pickle \n",
    "\n",
    "with open('mwe_50000.pkl', 'wb') as f:\n",
    "    pickle.dump(df50000, f)"
   ]
  },
  {
   "cell_type": "code",
   "execution_count": 1,
   "id": "12bae507",
   "metadata": {},
   "outputs": [
    {
     "ename": "NameError",
     "evalue": "name 'MWE_dict' is not defined",
     "output_type": "error",
     "traceback": [
      "\u001b[0;31m---------------------------------------------------------------------------\u001b[0m",
      "\u001b[0;31mNameError\u001b[0m                                 Traceback (most recent call last)",
      "Cell \u001b[0;32mIn[1], line 1\u001b[0m\n\u001b[0;32m----> 1\u001b[0m \u001b[38;5;28mlen\u001b[39m(\u001b[43mMWE_dict\u001b[49m)\n",
      "\u001b[0;31mNameError\u001b[0m: name 'MWE_dict' is not defined"
     ]
    }
   ],
   "source": [
    "len(MWE_dict)"
   ]
  },
  {
   "cell_type": "code",
   "execution_count": 5,
   "id": "52722955",
   "metadata": {},
   "outputs": [],
   "source": [
    "MWE_dict = {}\n",
    "\n",
    "for mwe in MWE:\n",
    "    f = mwe.split()[0]\n",
    "    if f in MWE_dict:\n",
    "        MWE_dict[f].append(mwe)\n",
    "    else:\n",
    "        MWE_dict[f] = [mwe]"
   ]
  },
  {
   "cell_type": "code",
   "execution_count": 7,
   "id": "d7454636",
   "metadata": {},
   "outputs": [
    {
     "data": {
      "text/plain": [
       "28029"
      ]
     },
     "execution_count": 7,
     "metadata": {},
     "output_type": "execute_result"
    }
   ],
   "source": [
    "len(MWE_dict)"
   ]
  },
  {
   "cell_type": "code",
   "execution_count": 28,
   "id": "1eb38031",
   "metadata": {},
   "outputs": [],
   "source": [
    "MWE_dict = {}\n",
    "\n",
    "for mwe in df50000:\n",
    "    f = mwe.split()[0]\n",
    "    if len(mwe.split()) == 2 and (len(f)>2 and len(mwe.split()[1] )>2):\n",
    "        if f in MWE_dict:\n",
    "            MWE_dict[f].append(mwe)\n",
    "        else:\n",
    "            MWE_dict[f] = [mwe]"
   ]
  },
  {
   "cell_type": "code",
   "execution_count": 58,
   "id": "8b9b0049",
   "metadata": {},
   "outputs": [
    {
     "data": {
      "text/plain": [
       "16073"
      ]
     },
     "execution_count": 58,
     "metadata": {},
     "output_type": "execute_result"
    }
   ],
   "source": [
    "len(MWE_dict)"
   ]
  },
  {
   "cell_type": "code",
   "execution_count": 133,
   "id": "947dbbb0",
   "metadata": {},
   "outputs": [],
   "source": [
    "import pickle \n",
    "\n",
    "with open('mwe_dictionary.pkl', 'wb') as f:\n",
    "    pickle.dump(MWE_dict, f)"
   ]
  },
  {
   "cell_type": "code",
   "execution_count": 2,
   "id": "61c9c9ef-0421-47a9-becb-ecd68fa591af",
   "metadata": {
    "tags": []
   },
   "outputs": [],
   "source": [
    "import gzip"
   ]
  },
  {
   "cell_type": "code",
   "execution_count": 8,
   "id": "d6203960-6cef-43ba-979e-94c6d5450f8c",
   "metadata": {
    "tags": []
   },
   "outputs": [],
   "source": [
    "from pathlib import Path"
   ]
  },
  {
   "cell_type": "code",
   "execution_count": 9,
   "id": "d856ce8a-b6a7-4d84-bd5a-f419ae2dd6d9",
   "metadata": {
    "tags": []
   },
   "outputs": [],
   "source": [
    "directory = \"Medline/PubMed/\""
   ]
  },
  {
   "cell_type": "code",
   "execution_count": null,
   "id": "faf90c5f-baf1-4aff-a273-23671abdbfcf",
   "metadata": {
    "tags": []
   },
   "outputs": [],
   "source": [
    "files = Path(directory).glob('*.gz')"
   ]
  },
  {
   "cell_type": "code",
   "execution_count": null,
   "id": "026819f8-105d-40c3-9d36-3407fdb80b08",
   "metadata": {
    "tags": []
   },
   "outputs": [],
   "source": [
    "i = 1\n",
    "j = 1\n",
    "for file in files:\n",
    "    with gzip.open(file,'r') as f:\n",
    "        tree = ET.parse(f)\n",
    "        for x in tree.iter(tag ='MedlineCitation'):\n",
    "            text = ''\n",
    "            title = ''\n",
    "            for elem in x.iter('AbstractText'):\n",
    "                text = elem.text\n",
    "            for elem in x.iter('ArticleTitle'):\n",
    "                title = elem.text\n",
    "            final = str(i) + \" - \" + title.lower() + \" \" + text.lower() + \"\\n\"\n",
    "            with open(f'Processed/{j}.txt', \"a\") as text_file:\n",
    "                text_file.write(final)\n",
    "            i = i+1\n",
    "    j=j+1        "
   ]
  },
  {
   "cell_type": "code",
   "execution_count": 10,
   "id": "e6bea24c",
   "metadata": {},
   "outputs": [],
   "source": [
    "directory = \"Processed/\"\n",
    "files = Path(directory).glob('*.txt')"
   ]
  },
  {
   "cell_type": "code",
   "execution_count": 11,
   "id": "63d4ac23",
   "metadata": {},
   "outputs": [],
   "source": [
    "files = list(files)"
   ]
  },
  {
   "cell_type": "code",
   "execution_count": null,
   "id": "eb26cb64",
   "metadata": {
    "scrolled": false
   },
   "outputs": [],
   "source": [
    "files"
   ]
  },
  {
   "cell_type": "code",
   "execution_count": 13,
   "id": "4d6122ef",
   "metadata": {},
   "outputs": [],
   "source": [
    "import itertools\n",
    "top100 = list(itertools.islice(files, 0,100))"
   ]
  },
  {
   "cell_type": "code",
   "execution_count": 14,
   "id": "5b025f34",
   "metadata": {},
   "outputs": [],
   "source": [
    "zipped = list([top100[0:25],top100[25:50],top100[50:75],top100[75:100]])"
   ]
  },
  {
   "cell_type": "code",
   "execution_count": 15,
   "id": "a416774f",
   "metadata": {},
   "outputs": [],
   "source": [
    "top100.sort()"
   ]
  },
  {
   "cell_type": "code",
   "execution_count": 16,
   "id": "c4da9d5e",
   "metadata": {},
   "outputs": [
    {
     "data": {
      "text/plain": [
       "'1.txt'"
      ]
     },
     "execution_count": 16,
     "metadata": {},
     "output_type": "execute_result"
    }
   ],
   "source": [
    "import os\n",
    "os.path.basename(top100[0])\n"
   ]
  },
  {
   "cell_type": "code",
   "execution_count": 85,
   "id": "3d94dc04",
   "metadata": {},
   "outputs": [],
   "source": [
    "def my_function(files):    \n",
    "    mwe_tokens =[]\n",
    "    for file in files:\n",
    "        name =  os.path.basename(file)\n",
    "        with open(file,'r') as f:\n",
    "            lines = f.readlines()\n",
    "            for line in lines:\n",
    "                k = line.split(' ',1)[0]\n",
    "                m = line.split(' ',1)[1]\n",
    "                doc = nlp(m)\n",
    "                filtered_tokens = [token.text for token in doc if not token.is_stop and len(token)>2]\n",
    "                doclst = {}\n",
    "                for word in filtered_tokens:\n",
    "                    if word in MWE_dict:\n",
    "                        lst = MWE_dict[word]\n",
    "                        for mwe in lst:\n",
    "                            c = m.count(mwe)\n",
    "                            if c>0:\n",
    "                                doclst[mwe] = c\n",
    "                mwe_tokens.append(doclst)\n",
    "                l = f'{k} - '\n",
    "                for token in filtered_tokens:\n",
    "                    l = l+ token + ' '\n",
    "                l = l + '\\n' \n",
    "                with open(f'Tokens/{name}','a') as ff:\n",
    "                    ff.write(l)\n",
    "    return mwe_tokens"
   ]
  },
  {
   "cell_type": "code",
   "execution_count": 22,
   "id": "c86f0863",
   "metadata": {},
   "outputs": [],
   "source": [
    "def my_function3(files):    \n",
    "    mwe_tokens ={}\n",
    "    for file in files:\n",
    "        name =  os.path.basename(file)\n",
    "        mwe_tokens[name] = []\n",
    "        print(f'starting for {name}')\n",
    "        with open(file,'r') as f:\n",
    "            lines = f.readlines()\n",
    "            for line in lines:\n",
    "                m = line.split(' ',1)[1]\n",
    "                doc = nlp(m)\n",
    "                filtered_tokens = [token.text for token in doc if not token.is_stop and len(token)>2]\n",
    "                doclst = {}\n",
    "                for word in filtered_tokens:\n",
    "                    if word in MWE_dict:\n",
    "                        lst = MWE_dict[word]\n",
    "                        for mwe in lst:\n",
    "                            c = m.count(mwe)\n",
    "                            if c>0:\n",
    "                                doclst[mwe] = c\n",
    "                mwe_tokens[name].append(doclst)\n",
    "    return mwe_tokens"
   ]
  },
  {
   "cell_type": "code",
   "execution_count": 18,
   "id": "a874a9f3",
   "metadata": {},
   "outputs": [],
   "source": [
    "from concurrent.futures import ProcessPoolExecutor"
   ]
  },
  {
   "cell_type": "code",
   "execution_count": null,
   "id": "9be334ab",
   "metadata": {},
   "outputs": [
    {
     "name": "stdout",
     "output_type": "stream",
     "text": [
      "starting for 12.txtstarting for 277.txtstarting for 481.txtstarting for 361.txt\n",
      "\n",
      "\n",
      "\n",
      "starting for 138.txt\n",
      "starting for 279.txt\n",
      "starting for 417.txt\n",
      "starting for 406.txt\n",
      "starting for 501.txt\n",
      "starting for 160.txt\n",
      "starting for 370.txt\n",
      "starting for 152.txt\n",
      "starting for 44.txt\n",
      "starting for 533.txt\n",
      "starting for 459.txt\n",
      "starting for 294.txt\n",
      "starting for 15.txt\n",
      "starting for 95.txt\n",
      "starting for 78.txt\n",
      "starting for 488.txt\n",
      "starting for 228.txt\n",
      "starting for 457.txt\n",
      "starting for 245.txt\n",
      "starting for 36.txt\n",
      "starting for 382.txt\n",
      "starting for 254.txt\n",
      "starting for 486.txt\n",
      "starting for 425.txt\n",
      "starting for 69.txt\n",
      "starting for 183.txt\n",
      "starting for 192.txt\n",
      "starting for 321.txt\n",
      "starting for 353.txt\n",
      "starting for 155.txt\n",
      "starting for 38.txt\n",
      "starting for 31.txt\n",
      "starting for 422.txt\n",
      "starting for 143.txt\n",
      "starting for 293.txt\n"
     ]
    }
   ],
   "source": [
    "with ProcessPoolExecutor(max_workers=4) as exe:\n",
    "    results = exe.map(my_function3,zipped)"
   ]
  },
  {
   "cell_type": "code",
   "execution_count": 24,
   "id": "0db07baf",
   "metadata": {},
   "outputs": [],
   "source": [
    "k = list(results)"
   ]
  },
  {
   "cell_type": "code",
   "execution_count": 25,
   "id": "f3395c5f",
   "metadata": {},
   "outputs": [
    {
     "data": {
      "text/plain": [
       "4"
      ]
     },
     "execution_count": 25,
     "metadata": {},
     "output_type": "execute_result"
    }
   ],
   "source": [
    "len(k)"
   ]
  },
  {
   "cell_type": "code",
   "execution_count": 63,
   "id": "91392159",
   "metadata": {},
   "outputs": [
    {
     "name": "stdout",
     "output_type": "stream",
     "text": [
      "done\n"
     ]
    }
   ],
   "source": [
    "print('done')"
   ]
  },
  {
   "cell_type": "code",
   "execution_count": 26,
   "id": "b0c85d96",
   "metadata": {},
   "outputs": [],
   "source": [
    "tokens_final = {**k[0],**k[1],**k[2],**k[3]}"
   ]
  },
  {
   "cell_type": "code",
   "execution_count": 28,
   "id": "b42059dc",
   "metadata": {},
   "outputs": [
    {
     "data": {
      "text/plain": [
       "100"
      ]
     },
     "execution_count": 28,
     "metadata": {},
     "output_type": "execute_result"
    }
   ],
   "source": [
    "len(tokens_final)"
   ]
  },
  {
   "cell_type": "code",
   "execution_count": null,
   "id": "813ed2e7",
   "metadata": {},
   "outputs": [],
   "source": []
  },
  {
   "cell_type": "code",
   "execution_count": 30,
   "id": "d8402da4",
   "metadata": {},
   "outputs": [],
   "source": [
    "import pickle\n",
    "with open('tokens_final.pkl', 'wb') as f:\n",
    "    pickle.dump(tokens_final, f)"
   ]
  },
  {
   "cell_type": "code",
   "execution_count": 131,
   "id": "9efd76a1",
   "metadata": {},
   "outputs": [],
   "source": [
    " merged = list(itertools.chain(*k))"
   ]
  },
  {
   "cell_type": "code",
   "execution_count": 132,
   "id": "a8a77163",
   "metadata": {},
   "outputs": [
    {
     "data": {
      "text/plain": [
       "3000000"
      ]
     },
     "execution_count": 132,
     "metadata": {},
     "output_type": "execute_result"
    }
   ],
   "source": [
    "len(merged)"
   ]
  },
  {
   "cell_type": "code",
   "execution_count": 134,
   "id": "8a291adb",
   "metadata": {},
   "outputs": [],
   "source": [
    "with open('mwe_in_100.pkl', 'wb') as f:\n",
    "    pickle.dump(merged, f)"
   ]
  },
  {
   "cell_type": "code",
   "execution_count": 14,
   "id": "2282b733",
   "metadata": {},
   "outputs": [],
   "source": [
    "import pickle "
   ]
  },
  {
   "cell_type": "code",
   "execution_count": 15,
   "id": "6f8850d5",
   "metadata": {},
   "outputs": [],
   "source": [
    "with open('mwe_dictionary.pkl', 'rb') as f:\n",
    "    MWE_dict = pickle.load(f)"
   ]
  },
  {
   "cell_type": "code",
   "execution_count": 139,
   "id": "3d8748d3",
   "metadata": {},
   "outputs": [
    {
     "data": {
      "text/plain": [
       "['carbonic anhydrase',\n",
       " 'anhydrase inhibitors',\n",
       " 'anhydrase inhibitor',\n",
       " 'inhibitors targeting',\n",
       " 'inhibitors bind',\n",
       " 'active site',\n",
       " 'binding modes',\n",
       " 'binding mode',\n",
       " 'binding region',\n",
       " 'crystal structure',\n",
       " 'crystal structures',\n",
       " 'complexed with',\n",
       " 'van der',\n",
       " 'der waals',\n",
       " 'der waal',\n",
       " 'waals interactions',\n",
       " 'waals interaction',\n",
       " 'interactions with',\n",
       " 'distance from',\n",
       " 'aliphatic chain',\n",
       " 'residues phe',\n",
       " 'derivatives bind',\n",
       " 'pointing toward',\n",
       " 'hydrophilic part',\n",
       " 'findings are',\n",
       " 'designing better',\n",
       " 'hypoxic tumor',\n",
       " 'hypoxic tumors']"
      ]
     },
     "execution_count": 139,
     "metadata": {},
     "output_type": "execute_result"
    }
   ],
   "source": [
    "list(merged[0].keys())"
   ]
  },
  {
   "cell_type": "code",
   "execution_count": 137,
   "id": "b350dd38",
   "metadata": {},
   "outputs": [],
   "source": [
    "vocab = []"
   ]
  },
  {
   "cell_type": "code",
   "execution_count": 180,
   "id": "c3fc7590",
   "metadata": {},
   "outputs": [],
   "source": [
    "vocab_short =[]"
   ]
  },
  {
   "cell_type": "code",
   "execution_count": 182,
   "id": "bf2a60a0",
   "metadata": {},
   "outputs": [],
   "source": [
    "vocab_short = list(set(list(itertools.chain(*vocab_short))))"
   ]
  },
  {
   "cell_type": "code",
   "execution_count": 177,
   "id": "bd83aa40",
   "metadata": {},
   "outputs": [
    {
     "data": {
      "text/plain": [
       "['statistical relationships',\n",
       " 'parasite genome',\n",
       " 'degenerative events',\n",
       " 'igg1 mab',\n",
       " 'going public',\n",
       " 'neutropenic pediatric',\n",
       " 'common cause',\n",
       " 'arg allele',\n",
       " 'youth sport',\n",
       " 'microcystin content',\n",
       " 'losses ranged',\n",
       " 'wetland plant',\n",
       " 'seventeen cases',\n",
       " 'improving endothelial',\n",
       " 'bilateral cortical',\n",
       " 'stent removal',\n",
       " 'cultured mesenchymal',\n",
       " 'intact tissues',\n",
       " 'stop signal',\n",
       " 'reverse trendelenburg',\n",
       " 'obstructing colorectal',\n",
       " 'technique described',\n",
       " 'detailed interviews',\n",
       " 'terrestrial mammals',\n",
       " 'band patterns',\n",
       " 'nanotube composite',\n",
       " 'elongated spermatids',\n",
       " 'responded normally',\n",
       " 'atherosclerotic processes',\n",
       " 'programs must',\n",
       " 'fork blockage',\n",
       " 'tryptic fragment',\n",
       " 'ivig administration',\n",
       " 'mandibular distraction',\n",
       " 'murine macrophages',\n",
       " 'samples donated',\n",
       " 'mspi polymorphism',\n",
       " 'microgram amounts',\n",
       " 'abnormal waveform',\n",
       " 'adjuvant cisplatin',\n",
       " 'showing greater',\n",
       " 'polyendocrine syndromes',\n",
       " 'widely embraced',\n",
       " 'speech utterances',\n",
       " 'large conductance',\n",
       " 'detailed map',\n",
       " 'efficient antioxidant',\n",
       " 'statistically valid',\n",
       " 'elevated intra',\n",
       " 'cardiac chamber',\n",
       " 'natural communities',\n",
       " 'basal dendritic',\n",
       " 'find himself',\n",
       " 'isolated atria',\n",
       " 'authors conclude',\n",
       " 'taper angle',\n",
       " 'stopping therapy',\n",
       " 'spearman correlation',\n",
       " 'multiplexed analysis',\n",
       " 'delayed maturation',\n",
       " 'resource shortages',\n",
       " 'pombe mutants',\n",
       " 'serrated adenoma',\n",
       " 'ruptured left',\n",
       " 'nadh reoxidation',\n",
       " 'stimulates glucose',\n",
       " 'secretion coupling',\n",
       " 'induced cyclobutane',\n",
       " 'diagnosed until',\n",
       " 'aspartic proteases',\n",
       " 'briefly discuss',\n",
       " 'tissue deposition',\n",
       " 'identify occult',\n",
       " 'hatched larvae',\n",
       " 'yielded inconsistent',\n",
       " 'policies designed',\n",
       " 'intracranial aneurysms',\n",
       " 'lvh dogs',\n",
       " 'initial increase',\n",
       " 'drug poisoning',\n",
       " 'elution steps',\n",
       " 'prescription medication',\n",
       " 'secretion elicited',\n",
       " 'hplc separation',\n",
       " 'went undetected',\n",
       " 'highlighting areas',\n",
       " 'lowland rice',\n",
       " 'fuzzy art',\n",
       " 'maleate gel',\n",
       " 'thirteen specimens',\n",
       " 'postanoxic myoclonus',\n",
       " 'backfat thickness',\n",
       " 'probably contain',\n",
       " 'immunological profiles',\n",
       " 'solid water',\n",
       " 'urethral replacement',\n",
       " 'financial incentives',\n",
       " 'correlates closely',\n",
       " 'monoamine oxidases',\n",
       " 'gcn4 mrna',\n",
       " 'increasing age',\n",
       " 'bladder smooth',\n",
       " 'horn shark',\n",
       " 'hypercalcemia persisted',\n",
       " 'specific cytotoxic',\n",
       " 'vegf121 mrna',\n",
       " 'induced chemotaxis',\n",
       " 'approximate threefold',\n",
       " 'transaortic approach',\n",
       " 'operative notes',\n",
       " 'proximal arch',\n",
       " 'subcortical vad',\n",
       " 'rapd markers',\n",
       " 'pair deletion',\n",
       " 'distal pedicle',\n",
       " 'adhesion properties',\n",
       " 'forearm vasoconstrictor',\n",
       " 'maximum workload',\n",
       " 'eol decision',\n",
       " 'high solubility',\n",
       " 'daily plus',\n",
       " 'atrial antitachycardia',\n",
       " 'glyceryl monostearate',\n",
       " 'findings underscored',\n",
       " 'acute spinal',\n",
       " 'social policy',\n",
       " 'pulmonary hydatid',\n",
       " 'azorean population',\n",
       " 'financial information',\n",
       " 'high conservation',\n",
       " 'smaller caliber',\n",
       " 'capillary lumens',\n",
       " 'food ingredient',\n",
       " 'lower quadrant',\n",
       " 'gun control',\n",
       " 'obese pregnant',\n",
       " 'venous accesses',\n",
       " 'indigenous children',\n",
       " 'intravenous ganciclovir',\n",
       " 'intracerebral haemorrhage',\n",
       " 'provides opportunities',\n",
       " 'definitive airway',\n",
       " 'reconstructions performed',\n",
       " 'weeks posttransplant',\n",
       " 'distinct entity',\n",
       " 'dilated proximal',\n",
       " 'left uncovered',\n",
       " 'threonine synthase',\n",
       " 'retrospective interventional',\n",
       " 'evening bright',\n",
       " 'ejaculatory ducts',\n",
       " 'direct target',\n",
       " 'postural steadiness',\n",
       " 'selected nutrients',\n",
       " 'eccrine differentiation',\n",
       " 'aav itr',\n",
       " 'laparoscopic subtotal',\n",
       " 'wider distribution',\n",
       " 'hprt gene',\n",
       " 'hypothetical vignettes',\n",
       " 'preterm deliveries',\n",
       " 'silico mapping',\n",
       " 'persistent vomiting',\n",
       " 'dietary aflatoxin',\n",
       " 'reports implicating',\n",
       " 'count above',\n",
       " 'frequently lost',\n",
       " 'stress management',\n",
       " 'proceed normally',\n",
       " 'greatest improvement',\n",
       " 'polymerization reaction',\n",
       " 'histochemical analysis',\n",
       " 'src inhibitor',\n",
       " 'figures indicate',\n",
       " 'respiratory function',\n",
       " 'campylobacter contamination',\n",
       " 'broadly similar',\n",
       " 'veterinary vaccine',\n",
       " 'signal recognition',\n",
       " 'cohesive silicone',\n",
       " 'carboxylesterase activity',\n",
       " 'nir spectroscopic',\n",
       " 'late maturation',\n",
       " 'gastroenterologists should',\n",
       " 'upstream from',\n",
       " 'neuroprotective mechanism',\n",
       " 'alkanethiol monolayer',\n",
       " 'anthracis strain',\n",
       " 'pco2 gap',\n",
       " 'stimulate gastric',\n",
       " 'proteoglycan depletion',\n",
       " 'laborious and',\n",
       " 'joint national',\n",
       " 'related compounds',\n",
       " 'thymic stroma',\n",
       " 'preferential segregation',\n",
       " 'differential abilities',\n",
       " 'camptothecin derivative',\n",
       " 'methodological differences',\n",
       " 'natural gas',\n",
       " 'breast reconstructive',\n",
       " 't1799a mutation',\n",
       " 'shifting from',\n",
       " 'prostate cancer',\n",
       " 'southern africa',\n",
       " 'benign lichenoid',\n",
       " 'threonine phosphorylation',\n",
       " 'segmental pedicle',\n",
       " 'stability constants',\n",
       " 'criterion standard',\n",
       " 'key predictor',\n",
       " 'novel formulation',\n",
       " 'original site',\n",
       " 'smear examination',\n",
       " 'thymic atrophy',\n",
       " 'preloaded with',\n",
       " 'growth chambers',\n",
       " 'retroviral transduction',\n",
       " 'rhythm resumed',\n",
       " 'pregnancy progresses',\n",
       " 'clpap protease',\n",
       " 'extremely long',\n",
       " 'noradrenaline concentration',\n",
       " 'physicians need',\n",
       " 'logic gates',\n",
       " 'alpha4 subunit',\n",
       " 'soma size',\n",
       " 'peptides induce',\n",
       " 'affected legs',\n",
       " 'pediatric hematology',\n",
       " 'patients withdrew',\n",
       " 'forward motility',\n",
       " 'adjective check',\n",
       " 'slice preparation',\n",
       " 'rural town',\n",
       " 'automatically imply',\n",
       " 'bacteria attach',\n",
       " 'urodynamic studies',\n",
       " 'fed piglets',\n",
       " 'nitrogen deprivation',\n",
       " 'hyaluronidases from',\n",
       " 'tumor inoculation',\n",
       " 'subpulmonary vsd',\n",
       " 'simulations showed',\n",
       " 'hyperthermophilic archaea',\n",
       " 'dynamics calculation',\n",
       " 'symphyseal diastasis',\n",
       " 'multicellular spheroid',\n",
       " 'sectioned bucco',\n",
       " 'kda microtubule',\n",
       " 'opioid drugs',\n",
       " 'mutually coupled',\n",
       " 'urorectal septum',\n",
       " 'hormone replacement',\n",
       " 'lgl proliferation',\n",
       " 'fluorescence intensity',\n",
       " 'gastroprotective activity',\n",
       " 'magnesium levels',\n",
       " 'capital district',\n",
       " 'nanoindentation experiments',\n",
       " 'spill response',\n",
       " 'involves upregulation',\n",
       " 'microl per',\n",
       " 'collateral branches',\n",
       " 'adenovirus infection',\n",
       " 'accumulated within',\n",
       " 'stage larva',\n",
       " 'smallest difference',\n",
       " 'simulations reveal',\n",
       " 'combining radiation',\n",
       " 'predict individual',\n",
       " 'contributory cause',\n",
       " 'biliary scintigraphy',\n",
       " 'waning pattern',\n",
       " 'likelihood ratios',\n",
       " 'adverse experiences',\n",
       " 'amh gene',\n",
       " 'recombined with',\n",
       " 'transcriptional repressors',\n",
       " 'sequence contains',\n",
       " 'allow separation',\n",
       " 'enzymatic deglycosylation',\n",
       " 'bedtime administration',\n",
       " 'calcium phosphate',\n",
       " 'antipsychotic medications',\n",
       " 'coronary vessels',\n",
       " 'major bioactive',\n",
       " 'bilaterally cryptorchid',\n",
       " 'high abundance',\n",
       " 'p38 kinase',\n",
       " 'model reproduces',\n",
       " 'rabbit psoas',\n",
       " 'educational format',\n",
       " 'bacillus atrophaeus',\n",
       " 'baby syndrome',\n",
       " 'drawn before',\n",
       " 'domain contributes',\n",
       " 'vitro mineralization',\n",
       " 'c282y homozygotes',\n",
       " 'epo levels',\n",
       " 'porous adsorbent',\n",
       " 'proved helpful',\n",
       " 'excellent view',\n",
       " 'duodenal carcinoma',\n",
       " 'duplicate analyses',\n",
       " 'anticancer efficacy',\n",
       " 'steric bulk',\n",
       " 'extremity weakness',\n",
       " 'investigators blinded',\n",
       " 'visceral arteries',\n",
       " 'aggressive non',\n",
       " 'initiation step',\n",
       " 'beta heterodimer',\n",
       " 'renal collecting',\n",
       " 'estrogen regulates',\n",
       " 'multiple osteolytic',\n",
       " 'initiating factors',\n",
       " 'mass peaks',\n",
       " 'marker gene',\n",
       " 'different environmental',\n",
       " 'mannitol solution',\n",
       " 'illegal immigrant',\n",
       " 'infant presented',\n",
       " 'correlated firing',\n",
       " 'neurotropic viral',\n",
       " 'junior doctors',\n",
       " 'shoulder instability',\n",
       " 'overall frequency',\n",
       " 'exact agreement',\n",
       " 'fluid responsiveness',\n",
       " 'terminal oxidases',\n",
       " 'mature enough',\n",
       " 'aflp fragments',\n",
       " 'possible etiologic',\n",
       " 'adequate nutritional',\n",
       " 'competition assays',\n",
       " 'frequency tables',\n",
       " 'ionised calcium',\n",
       " 'flexion position',\n",
       " 'scattering calculations',\n",
       " 'viable method',\n",
       " 'peribronchial thickening',\n",
       " 'dopamine infusions',\n",
       " 'screening methods',\n",
       " 'neutropenic patient',\n",
       " 'wnt proteins',\n",
       " 'motive force',\n",
       " 'intervertebral spaces',\n",
       " 'myometrial samples',\n",
       " 'computer interface',\n",
       " 'commercial products',\n",
       " 'angiostatic agent',\n",
       " 'electrostatic interaction',\n",
       " 'human lens',\n",
       " 'segmental replacement',\n",
       " 'extracellular environment',\n",
       " 'thalassemias are',\n",
       " 'agarose gel',\n",
       " 'polysynaptic pathways',\n",
       " 'considerable distortion',\n",
       " 'epithelial cell',\n",
       " 'equally sensitive',\n",
       " 'farming areas',\n",
       " 'induced thrombocytopenia',\n",
       " 'heat stability',\n",
       " 'pleiotropic developmental',\n",
       " 'useful marker',\n",
       " 'lymphatic metastasis',\n",
       " 'hypertonicity increases',\n",
       " 'her2 expression',\n",
       " 'phenotypic feature',\n",
       " 'directed differentiation',\n",
       " 'local cytokine',\n",
       " 'outer arm',\n",
       " 'restrictive cardiomyopathy',\n",
       " 'uteroplacental insufficiency',\n",
       " 'formal description',\n",
       " 'myoepithelial tumors',\n",
       " 'continuously exposed',\n",
       " 'supportive behaviors',\n",
       " 'synaptic excitation',\n",
       " 'skin substitute',\n",
       " 'lipoma arborescens',\n",
       " 'surgical debridements',\n",
       " 'adipocytes differentiated',\n",
       " 'strains carrying',\n",
       " 'hdr brachytherapy',\n",
       " 'gated radiotherapy',\n",
       " 'rural populations',\n",
       " 'agents hold',\n",
       " 'sodium erythorbate',\n",
       " 'downsizing and',\n",
       " 'membranous organelles',\n",
       " 'meaningful pain',\n",
       " 'procedure requires',\n",
       " 'assays targeting',\n",
       " 'patellar instability',\n",
       " 'general satisfaction',\n",
       " 'recommend aggressive',\n",
       " 'maximum obtainable',\n",
       " 'flowering stage',\n",
       " 'carpal tunnel',\n",
       " 'atrial arrhythmias',\n",
       " 'relative amplitude',\n",
       " 'tuberculosis contacts',\n",
       " 'suggested improvements',\n",
       " 'defense functions',\n",
       " 'inductive conditions',\n",
       " 'narrow spectrum',\n",
       " 'collect demographic',\n",
       " 'evolutive forms',\n",
       " 'methylated histone',\n",
       " 'immunized animals',\n",
       " 'human dignity',\n",
       " 'chinese drugs',\n",
       " 'biogenic amine',\n",
       " 'syndrome consists',\n",
       " 'assessment paradigm',\n",
       " 'perivascular collagen',\n",
       " 'mild hypothermia',\n",
       " 'gambling problem',\n",
       " 'plant nitrogen',\n",
       " 'skull vault',\n",
       " 'bacterial phytopathogens',\n",
       " 'geriatric population',\n",
       " 'remission duration',\n",
       " 'propagate into',\n",
       " 'aging parents',\n",
       " 'cuticular layer',\n",
       " 'electrochemically generated',\n",
       " 'integrated optical',\n",
       " 'nerve branch',\n",
       " 'lymphoid hyperplasias',\n",
       " 'intranuclear localization',\n",
       " 'creatinine determinations',\n",
       " 'microelectrode mapping',\n",
       " 'standard formulation',\n",
       " 'fumigatus allergens',\n",
       " 'cartilage layer',\n",
       " 'modulation frequency',\n",
       " 'antisense inhibition',\n",
       " 'addressed how',\n",
       " 'independent examiner',\n",
       " 'renal angiomyolipoma',\n",
       " 'powder xrd',\n",
       " 'predictable changes',\n",
       " 'dirigent protein',\n",
       " 'porcine retinal',\n",
       " 'extracellular ribonuclease',\n",
       " 'exogenously supplied',\n",
       " 'random regression',\n",
       " 'gnotobiotic dogs',\n",
       " 'exhibited reduced',\n",
       " 'primary infection',\n",
       " 'parahaemolyticus strains',\n",
       " 'occasionally occur',\n",
       " 'nucleoside tri',\n",
       " 'correct solution',\n",
       " 'rna backbone',\n",
       " 'free precession',\n",
       " 'attention directed',\n",
       " 'lepidopteran insect',\n",
       " 'care plan',\n",
       " 'applications where',\n",
       " 'rice varieties',\n",
       " 'sanfilippo syndrome',\n",
       " 'dermatological research',\n",
       " 'insect herbivores',\n",
       " 'told that',\n",
       " 'offspring pairs',\n",
       " 'base disturbance',\n",
       " 'secondary degeneration',\n",
       " 'mismatch between',\n",
       " 'promote survival',\n",
       " 'molecular footprint',\n",
       " 'treat hypotension',\n",
       " 'erythropoietin concentration',\n",
       " 'glucose availability',\n",
       " 'relaxometry study',\n",
       " 'preclinical development',\n",
       " 'femoral shaft',\n",
       " 'care center',\n",
       " 'porcine small',\n",
       " 'coffee consumption',\n",
       " 'medicine resident',\n",
       " 'severe hypobaric',\n",
       " 'delivery strategies',\n",
       " 'receiving risedronate',\n",
       " 'twofold elevation',\n",
       " 'krab domain',\n",
       " 'polyketide natural',\n",
       " 'tendineus fascia',\n",
       " 'cancer therapy',\n",
       " 'internal representations',\n",
       " 'tumor formations',\n",
       " 'induced hepatic',\n",
       " 'eicosanoid release',\n",
       " 'polypeptide patterns',\n",
       " 'icsp that',\n",
       " 'inflammation resolved',\n",
       " 'variable independently',\n",
       " 'biochemical experiments',\n",
       " 'closely connected',\n",
       " 'enzymatic depolymerization',\n",
       " 'polymeric carriers',\n",
       " 'considerably longer',\n",
       " 'retinol binding',\n",
       " 'developed cataracts',\n",
       " 'bird schistosomes',\n",
       " 'discrete sites',\n",
       " 'starting antiretroviral',\n",
       " 'capsule opacification',\n",
       " 'initially classified',\n",
       " 'surgeons national',\n",
       " 'nonsurvivors had',\n",
       " 'recombinant immunoblot',\n",
       " 'estimate variance',\n",
       " 'social vulnerability',\n",
       " 'ethical issue',\n",
       " 'channel opener',\n",
       " 'motoneuron degeneration',\n",
       " 'pyloric dilator',\n",
       " 'respective diets',\n",
       " 'squamous dysplasia',\n",
       " 'hypoperfused areas',\n",
       " 'metastatic melanoma',\n",
       " 'tobacco lines',\n",
       " 'core subunit',\n",
       " 'pka activity',\n",
       " 'dosed daily',\n",
       " 'scientific disciplines',\n",
       " 'keratoacanthoma centrifugum',\n",
       " 'total chromium',\n",
       " 'technical success',\n",
       " 'primary hyperparathyroid',\n",
       " 'temperate habitats',\n",
       " 'movable platform',\n",
       " 'microbial peptides',\n",
       " 'atrial contribution',\n",
       " 'diffuse large',\n",
       " 'consistent differences',\n",
       " 'medical practice',\n",
       " 'pain control',\n",
       " 'hum biol',\n",
       " 'fiberoptic intubation',\n",
       " 'fibrolamellar carcinomas',\n",
       " 'blind fashion',\n",
       " 'requires rapid',\n",
       " 'federal trade',\n",
       " 'withhold their',\n",
       " 'approach combining',\n",
       " 'thermoluminescence dosimeters',\n",
       " 'length gain',\n",
       " 'days postinfection',\n",
       " 'phosphotransferase activity',\n",
       " 'provide better',\n",
       " 'community service',\n",
       " 'mdr1 polymorphisms',\n",
       " 'innovative technique',\n",
       " 'evaluated using',\n",
       " 'week before',\n",
       " 'drug metab',\n",
       " 'hebrew translation',\n",
       " 'virulence phenotype',\n",
       " 'restores wild',\n",
       " 'pericentric region',\n",
       " 'batch adsorption',\n",
       " 'enable reliable',\n",
       " 'study determines',\n",
       " 'essential elements',\n",
       " 'tanner staging',\n",
       " 'willebrand factor',\n",
       " '18th international',\n",
       " 'pla microparticles',\n",
       " 'ipsilateral neck',\n",
       " 'setup uncertainties',\n",
       " 'vascular parkinsonism',\n",
       " 'thyroxine binding',\n",
       " 'electrophilic aromatic',\n",
       " 'manganese cluster',\n",
       " 'fragment encoding',\n",
       " 'complementary therapies',\n",
       " 'abnormal keratinization',\n",
       " 'accurate mass',\n",
       " 'pyramidal coordination',\n",
       " 'donor material',\n",
       " 'subsequent formation',\n",
       " 'excellent anatomic',\n",
       " 'intakes were',\n",
       " 'ad35 vectors',\n",
       " 'molecule possesses',\n",
       " 'bulk aqueous',\n",
       " 'therapeutics will',\n",
       " 'large pedigrees',\n",
       " 'unstable variant',\n",
       " 'acoustic output',\n",
       " 'operation depends',\n",
       " 'parasite entamoeba',\n",
       " 'ligninolytic enzyme',\n",
       " 'reduced alertness',\n",
       " 'influencing mortality',\n",
       " 'sarcoid granulomata',\n",
       " 'carbohydrate specificity',\n",
       " 'acetaminophen administration',\n",
       " '119sn nmr',\n",
       " 'myopic refractive',\n",
       " 'seed set',\n",
       " 'sprague dawley',\n",
       " 'forming polymer',\n",
       " 'activities returned',\n",
       " 'microvessel diameters',\n",
       " 'exhibited satisfactory',\n",
       " 'defects around',\n",
       " 'normal homozygote',\n",
       " 'formally establish',\n",
       " 'marker panels',\n",
       " 'major epitope',\n",
       " 'violent behaviours',\n",
       " 'minor disturbances',\n",
       " 'podiatric physician',\n",
       " 'diffusely through',\n",
       " 'ongoing care',\n",
       " 'bulky residues',\n",
       " 'trigeminal subnucleus',\n",
       " 'centrilobular necrosis',\n",
       " 'delusions inventory',\n",
       " 'exocyst component',\n",
       " 'recently introduced',\n",
       " 'seasonal variations',\n",
       " 'rice mads',\n",
       " 'numerous side',\n",
       " 'pectic substances',\n",
       " 'demethylating drug',\n",
       " 'schizoaffective disorder',\n",
       " 'bacille calmette',\n",
       " 'best estimate',\n",
       " 'ophthalmic diseases',\n",
       " 'gathered about',\n",
       " 'liposomal amphotericin',\n",
       " 'regulatory scrutiny',\n",
       " 'duodenal mucosa',\n",
       " 'selected clones',\n",
       " 'mesenteric ischaemia',\n",
       " 'anatomical information',\n",
       " 'promoter sequence',\n",
       " 'minor determinants',\n",
       " 'extremely valuable',\n",
       " 'patient populations',\n",
       " 'right hemifields',\n",
       " 'submitted for',\n",
       " 'cortical actin',\n",
       " 'infrared wavelengths',\n",
       " 'allosteric change',\n",
       " 'fixed prosthodontics',\n",
       " 'developing zebrafish',\n",
       " 'raccoon dog',\n",
       " 'qinghai province',\n",
       " 'closely spaced',\n",
       " 'infer information',\n",
       " 'bronchial carcinoma',\n",
       " 'cyp3a4 enzyme',\n",
       " 'tear lactoferrin',\n",
       " 'potent cytotoxicity',\n",
       " 'urine sediment',\n",
       " 'lung histology',\n",
       " 'membrane interfaces',\n",
       " 'research effort',\n",
       " 'covalently bind',\n",
       " 'preparative liquid',\n",
       " 'successfully remove',\n",
       " 'predict morbidity',\n",
       " 'koebner phenomenon',\n",
       " 'proximal rectum',\n",
       " 'pulmonary vaso',\n",
       " 'keratocyte phenotype',\n",
       " 'prospectively selected',\n",
       " 'important differences',\n",
       " 'deletion editing',\n",
       " 'sulfated carbohydrate',\n",
       " 'anorectic peptide',\n",
       " 'clearly detected',\n",
       " '41st annual',\n",
       " 'hepatic cholesterol',\n",
       " 'original image',\n",
       " 'fourth decades',\n",
       " 'mammals possess',\n",
       " 'neuronal necrosis',\n",
       " 'calcified zone',\n",
       " 'gained increasing',\n",
       " 'oxys rats',\n",
       " 'eating questionnaire',\n",
       " 'naphthalene degradation',\n",
       " 'statistical models',\n",
       " 'apnea index',\n",
       " 'iga deposit',\n",
       " 'colonic reservoir',\n",
       " 'global genome',\n",
       " 'deprivation caused',\n",
       " 'hemorrhagic episodes',\n",
       " 'bodily systems',\n",
       " 'recruitment strategies',\n",
       " 'recommended for',\n",
       " 'lactam antibiotics',\n",
       " 'bacillus anthracis',\n",
       " 'parasitic nematode',\n",
       " 'tick borne',\n",
       " 'bfgf antibodies',\n",
       " 'ideal position',\n",
       " 'economic imperatives',\n",
       " 'lower likelihood',\n",
       " 'gabor functions',\n",
       " 'males aged',\n",
       " 'threefold larger',\n",
       " 'mediated excitotoxic',\n",
       " 'external devices',\n",
       " 'suppression subtractive',\n",
       " 'zinc absorption',\n",
       " 'selectivity index',\n",
       " 'cholinergic projection',\n",
       " 'handicap inventory',\n",
       " 'nasal pack',\n",
       " 'phenanthrene derivatives',\n",
       " 'colonic epithelia',\n",
       " 'measures anova',\n",
       " 'rat frontoparietal',\n",
       " 'government involvement',\n",
       " 'functionally significant',\n",
       " 'hyperglycemia per',\n",
       " 'inducible form',\n",
       " 'references cited',\n",
       " 'miniplate osteosynthesis',\n",
       " 'differentiated adenocarcinoma',\n",
       " 'previous histories',\n",
       " 'bind microtubules',\n",
       " 'causing upper',\n",
       " 'birds receiving',\n",
       " 'cutaneous allodynia',\n",
       " 'limb rigidity',\n",
       " 'extremely halophilic',\n",
       " 'cellular toxicity',\n",
       " 'imaging enables',\n",
       " 'prompt endoscopy',\n",
       " 'therapeutic reasons',\n",
       " 'quantitative angiography',\n",
       " 'radiofrequency lesions',\n",
       " 'yolk weight',\n",
       " 'refraining from',\n",
       " 'leg elevation',\n",
       " 'dismutase mimetic',\n",
       " 'changed markedly',\n",
       " 'late phases',\n",
       " 'changed noticeably',\n",
       " 'medial amygdala',\n",
       " 'occur naturally',\n",
       " 'sludge flocs',\n",
       " 'mitochondrial homeostasis',\n",
       " 'regeneration blastema',\n",
       " 'exceeds that',\n",
       " 'affinity precipitation',\n",
       " 'secured with',\n",
       " 'flight ability',\n",
       " 'bacterial count',\n",
       " 'concomitant alteration',\n",
       " 'perifollicular infiltrate',\n",
       " 'passive sampler',\n",
       " 'distribution within',\n",
       " 'aversion induced',\n",
       " 'chicken embryo',\n",
       " 'mineral supplement',\n",
       " 'essay discusses',\n",
       " 'impaction allografting',\n",
       " 'declined since',\n",
       " 'suppressor proteins',\n",
       " 'fusion transcript',\n",
       " 'distant organs',\n",
       " 'great cormorants',\n",
       " 'spouses reported',\n",
       " 'uhmwpe particles',\n",
       " 'hampered due',\n",
       " 'missed diagnosis',\n",
       " 'available epidemiological',\n",
       " 'quadriplegic patients',\n",
       " 'mitochondrial metabolism',\n",
       " 'favorable response',\n",
       " 'transferase mediated',\n",
       " 'blocker cd2',\n",
       " 'mitral inflow',\n",
       " 'dapk expression',\n",
       " 'kinetic components',\n",
       " 'batch respirometric',\n",
       " 'acetyltransferase assay',\n",
       " 'vte risk',\n",
       " 'phosphofructokinase deficiency',\n",
       " 'poor academic',\n",
       " 'interphalangeal joint',\n",
       " 'routinely assessed',\n",
       " 'bovine endothelial',\n",
       " 'varies widely',\n",
       " 'organic framework',\n",
       " 'bonded interface',\n",
       " 'quantitative taqman',\n",
       " 'antigenomic rna',\n",
       " 'insect pest',\n",
       " 'combination antiretroviral',\n",
       " 'defects surveillance',\n",
       " 'significantly thicker',\n",
       " 'gonadotroph adenomas',\n",
       " 'inner mongolia',\n",
       " 'pulmonary hemorrhage',\n",
       " 'discrete lesions',\n",
       " 'patients had',\n",
       " 'cathodic peak',\n",
       " 'dystonic movement',\n",
       " 'sterol ester',\n",
       " 'geographic scales',\n",
       " 'diagnosed dementia',\n",
       " 'proper counseling',\n",
       " 'attracted increasing',\n",
       " 'intestinal microflora',\n",
       " 'plus oxaliplatin',\n",
       " 'laser cyclophotocoagulation',\n",
       " 'bias due',\n",
       " 'lignin deposition',\n",
       " 'pollination season',\n",
       " 'care referral',\n",
       " 'night shift',\n",
       " 'cytomegalovirus glycoprotein',\n",
       " 'accurately reproduce',\n",
       " 'thermoregulatory mechanisms',\n",
       " 'medical oncology',\n",
       " 'producing bacteria',\n",
       " 'influenza pandemic',\n",
       " 'ordering task',\n",
       " 'infertile population',\n",
       " 'program managers',\n",
       " 'numerically calculated',\n",
       " 'orthotopic mouse',\n",
       " 'branched aliphatic',\n",
       " 'allowed comparisons',\n",
       " 'uncharacterized gene',\n",
       " 'remaining intact',\n",
       " 'gender norms',\n",
       " 'luminal area',\n",
       " 'infiltrating carcinoma',\n",
       " 'oxacillin resistance',\n",
       " 'ligands acting',\n",
       " 'vestibular impairment',\n",
       " 'genetic tests',\n",
       " 'unsatisfactory results',\n",
       " 'biomass concentration',\n",
       " 'activities were',\n",
       " 'receptor hypofunction',\n",
       " 'shortly after',\n",
       " 'disulphide bridges',\n",
       " 'earlier study',\n",
       " 'carlo method',\n",
       " 'thorough explanation',\n",
       " 'neutrophils exposed',\n",
       " 'atlantoaxial subluxation',\n",
       " 'media led',\n",
       " 'radiation dosimetry',\n",
       " 'zebra fish',\n",
       " 'epitrochlearis muscle',\n",
       " 'relapsed ovarian',\n",
       " 'sick dogs',\n",
       " 'bacterial elongation',\n",
       " 'regularly collected',\n",
       " 'percutaneous nephro',\n",
       " 'camptothecin analog',\n",
       " 'cognitive measures',\n",
       " 'social adaptation',\n",
       " 'males born',\n",
       " 'mammalian olfactory',\n",
       " 'damage following',\n",
       " 'inverse linear',\n",
       " 'vein isolation',\n",
       " 'nonoperative management',\n",
       " 'bayesian methods',\n",
       " 'elastic behavior',\n",
       " 'apparent homogeneity',\n",
       " 'diagnoses made',\n",
       " 'clear images',\n",
       " 'ischaemic injury',\n",
       " 'severe attack',\n",
       " 'integrin beta3',\n",
       " 'faecal consistency',\n",
       " 'subsequent analysis',\n",
       " 'state decays',\n",
       " 'received alemtuzumab',\n",
       " 'motivating people',\n",
       " 'orphan receptor',\n",
       " 'program has',\n",
       " 'truly effective',\n",
       " 'mean follow',\n",
       " 'dominant polycystic',\n",
       " 'horrat values',\n",
       " 'factor cbfa1',\n",
       " 'spherical harmonic',\n",
       " 'liquid crystals',\n",
       " 'thrombogenic surface',\n",
       " 'chimeric mouse',\n",
       " 'tandem arrays',\n",
       " 'unacceptable toxicity',\n",
       " 'cry3bb1 protein',\n",
       " 'tendencies toward',\n",
       " 'glucose infusions',\n",
       " 'programmatic approach',\n",
       " 'advanced imaging',\n",
       " 'high inocula',\n",
       " 'worldwide web',\n",
       " 'prescribed oral',\n",
       " 'inhibiting apoptosis',\n",
       " 'pathologic states',\n",
       " 'ninety consecutive',\n",
       " 'procedure seems',\n",
       " 'histone h2b',\n",
       " 'service members',\n",
       " 'antiviral effect',\n",
       " 'extracts revealed',\n",
       " 'endotoxemia model',\n",
       " 'lipoprotein fractions',\n",
       " 'direct coupling',\n",
       " 'designed for',\n",
       " 'serrated adenomas',\n",
       " 'phenylalanine residue',\n",
       " 'biochemical feature',\n",
       " 'nephropexy using',\n",
       " 'rice fields',\n",
       " 'marijuana users',\n",
       " 'new haven',\n",
       " 'critical regulator',\n",
       " 'slow cooling',\n",
       " 'amputation neuromas',\n",
       " 'identify prognostic',\n",
       " 'inject effector',\n",
       " 'antinociception induced',\n",
       " 'lipidic cubic',\n",
       " 'nodes located',\n",
       " 'dosed groups',\n",
       " 'successfully colonized',\n",
       " 'preganglionic denervation',\n",
       " 'water solutions',\n",
       " 'primitive streak',\n",
       " 'canadian health',\n",
       " 'subjective well',\n",
       " 'sporadic retinoblastoma',\n",
       " 'local autocrine',\n",
       " 'dna microarray',\n",
       " 'upper trunk',\n",
       " 'coronavirus spike',\n",
       " 'rheumatic arthritis',\n",
       " 'transfer process',\n",
       " 'recurrent bacterial',\n",
       " 'additional views',\n",
       " 'matched odds',\n",
       " 'key elements',\n",
       " 'parallel experiment',\n",
       " 'electrosensory primary',\n",
       " 'rabbit lacrimal',\n",
       " 'wind speeds',\n",
       " 'coli chromosome',\n",
       " 'year mark',\n",
       " 'residues forming',\n",
       " 'defined protocol',\n",
       " 'timely follow',\n",
       " 'pregnant females',\n",
       " 'general lack',\n",
       " 'movement tasks',\n",
       " 'intratumor heterogeneity',\n",
       " 'intraoperative evoked',\n",
       " 'nucleosomal binding',\n",
       " 'lymphatic leakage',\n",
       " 'necrotic bowel',\n",
       " 'thymocyte subset',\n",
       " 'markers such',\n",
       " 'titration method',\n",
       " 'esteem enhancement',\n",
       " 'european guideline',\n",
       " 'observation prompted',\n",
       " 'secretory output',\n",
       " 'dense populations',\n",
       " 'work explores',\n",
       " 'summarize evidence',\n",
       " 'approach utilizes',\n",
       " 'insect pathogen',\n",
       " 'cytoplasmic transport',\n",
       " 'regulatory gene',\n",
       " 'uncontrolled inflammation',\n",
       " 'personal financial',\n",
       " 'cardiovascular effects',\n",
       " 'marine sediment',\n",
       " 'medical humanities',\n",
       " 'anxious temperament',\n",
       " 'linear trend',\n",
       " 'peroxisome biogenesis',\n",
       " 'influenzae strain',\n",
       " 'left femoral',\n",
       " 'withdrew before',\n",
       " 'convolution model',\n",
       " 'specifically inhibiting',\n",
       " ...]"
      ]
     },
     "execution_count": 177,
     "metadata": {},
     "output_type": "execute_result"
    }
   ],
   "source": [
    "vocab_short"
   ]
  },
  {
   "cell_type": "code",
   "execution_count": 187,
   "id": "605e3703",
   "metadata": {},
   "outputs": [],
   "source": [
    "matrix = np.zeros((len(vocab_short_dict),len(vocab_short_dict)))"
   ]
  },
  {
   "cell_type": "code",
   "execution_count": null,
   "id": "738749da",
   "metadata": {},
   "outputs": [],
   "source": []
  },
  {
   "cell_type": "code",
   "execution_count": 144,
   "id": "2647a873",
   "metadata": {
    "collapsed": true,
    "jupyter": {
     "outputs_hidden": true
    }
   },
   "outputs": [],
   "source": [
    "vocab = list(set(vocab))"
   ]
  },
  {
   "cell_type": "code",
   "execution_count": 181,
   "id": "f0857917",
   "metadata": {},
   "outputs": [],
   "source": [
    "for dic in merged[0:30000]:\n",
    "    vocab_short.append(list(dic.keys()))"
   ]
  },
  {
   "cell_type": "code",
   "execution_count": null,
   "id": "16792cb8",
   "metadata": {},
   "outputs": [],
   "source": [
    "vocab"
   ]
  },
  {
   "cell_type": "code",
   "execution_count": 189,
   "id": "829099ef",
   "metadata": {},
   "outputs": [],
   "source": [
    "for dic in merged[0:30000]:\n",
    "    if len(dic)>1:\n",
    "        lst = list(dic.keys())\n",
    "        for token in lst:\n",
    "            for a, b in itertools.combinations(lst, 2):\n",
    "                matrix[vocab_short_dict[a],vocab_short_dict[b]] += dic[a]*dic[b]\n",
    "                matrix[vocab_short_dict[b],vocab_short_dict[a]] += dic[a]*dic[b]\n",
    "    "
   ]
  },
  {
   "cell_type": "code",
   "execution_count": 190,
   "id": "b146a375",
   "metadata": {},
   "outputs": [],
   "source": [
    "for row in matrix:\n",
    "    for item in row:\n",
    "        if item <3:\n",
    "            item =0"
   ]
  },
  {
   "cell_type": "code",
   "execution_count": 141,
   "id": "3bfd573d",
   "metadata": {},
   "outputs": [],
   "source": [
    "vocab = list(itertools.chain(*vocab))"
   ]
  },
  {
   "cell_type": "code",
   "execution_count": 147,
   "id": "b325d737",
   "metadata": {},
   "outputs": [],
   "source": [
    "vocab_dict = {}\n",
    "i = 0\n",
    "for key in vocab:\n",
    "  vocab_dict[key] = i\n",
    "  i=i+1\n"
   ]
  },
  {
   "cell_type": "code",
   "execution_count": 183,
   "id": "0ff0e924",
   "metadata": {},
   "outputs": [],
   "source": [
    "vocab_short_dict = {}\n",
    "i = 0\n",
    "for key in vocab_short:\n",
    "  vocab_short_dict[key] = i\n",
    "  i=i+1"
   ]
  },
  {
   "cell_type": "code",
   "execution_count": 184,
   "id": "205eb123",
   "metadata": {},
   "outputs": [
    {
     "data": {
      "text/plain": [
       "206601"
      ]
     },
     "execution_count": 184,
     "metadata": {},
     "output_type": "execute_result"
    }
   ],
   "source": [
    "len(vocab_short_dict)"
   ]
  },
  {
   "cell_type": "code",
   "execution_count": 154,
   "id": "46cfb846",
   "metadata": {},
   "outputs": [
    {
     "data": {
      "text/plain": [
       "876094"
      ]
     },
     "execution_count": 154,
     "metadata": {},
     "output_type": "execute_result"
    }
   ],
   "source": [
    "len(set(vocab))"
   ]
  },
  {
   "cell_type": "code",
   "execution_count": 145,
   "id": "a33236fa",
   "metadata": {},
   "outputs": [
    {
     "data": {
      "text/plain": [
       "0"
      ]
     },
     "execution_count": 145,
     "metadata": {},
     "output_type": "execute_result"
    }
   ],
   "source": [
    "gc.collect()"
   ]
  },
  {
   "cell_type": "code",
   "execution_count": 191,
   "id": "8bad4d92-6853-4f74-8da4-19910e121ebc",
   "metadata": {},
   "outputs": [],
   "source": [
    "import markov_clustering as mc"
   ]
  },
  {
   "cell_type": "code",
   "execution_count": 21,
   "id": "f557a561-e663-48e0-a262-f1b8674282f9",
   "metadata": {
    "tags": []
   },
   "outputs": [
    {
     "name": "stderr",
     "output_type": "stream",
     "text": [
      "/common/home/rr1370/.local/lib/python3.10/site-packages/spacy/language.py:2141: FutureWarning: Possible set union at position 6328\n",
      "  deserializers[\"tokenizer\"] = lambda p: self.tokenizer.from_disk(  # type: ignore[union-attr]\n"
     ]
    }
   ],
   "source": [
    "nlp = spacy.load(\"en_core_sci_md\")"
   ]
  },
  {
   "cell_type": "code",
   "execution_count": null,
   "id": "8daa13dc",
   "metadata": {},
   "outputs": [],
   "source": []
  }
 ],
 "metadata": {
  "kernelspec": {
   "display_name": "Python 3 (ipykernel)",
   "language": "python",
   "name": "python3"
  },
  "language_info": {
   "codemirror_mode": {
    "name": "ipython",
    "version": 3
   },
   "file_extension": ".py",
   "mimetype": "text/x-python",
   "name": "python",
   "nbconvert_exporter": "python",
   "pygments_lexer": "ipython3",
   "version": "3.10.8"
  }
 },
 "nbformat": 4,
 "nbformat_minor": 5
}
